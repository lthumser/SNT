{
 "cells": [
  {
   "cell_type": "markdown",
   "metadata": {
    "colab_type": "text",
    "id": "ngM-ylxIXS35"
   },
   "source": [
    "<div class=titre1 >TP Cartographie</div>"
   ]
  },
  {
   "cell_type": "markdown",
   "metadata": {},
   "source": [
    "<img src=\"https://cdn.futura-sciences.com/buildsv6/images/largeoriginal/d/6/c/d6ca09524d_50034343_gps-satellite-02.jpg\" />\n",
    "<div class=details >\n",
    "    \n",
    "source : [https://www.futura-sciences.com/tech/definitions/technologie-gps-1897/](https://www.futura-sciences.com/tech/definitions/technologie-gps-1897/)\n",
    "</div>"
   ]
  },
  {
   "cell_type": "markdown",
   "metadata": {},
   "source": [
    "Exécuter le code de la cellule ci-dessous pour appliquer le style au notebook.\n",
    "<br/>\n",
    "Rappel : le bouton exécuter ressemble à ceci : <img src=http://phychiinfo.free.fr/informatique/i/executer.JPG />"
   ]
  },
  {
   "cell_type": "code",
   "execution_count": 1,
   "metadata": {},
   "outputs": [
    {
     "data": {
      "text/html": [
       "<style>\n",
       "    #site , .p-DockPanel {background-color:#EC8;}\n",
       "    #notebook-container , .jp-Notebook {\n",
       "        background-color:#CC8;\n",
       "        }\n",
       "    p , p > * {\n",
       "        color:#600;\n",
       "        font-size:16px; \n",
       "        font-family:\"Comic Sans Ms\",cursive;\n",
       "    }\n",
       "\n",
       "    .reponse {\n",
       "        color:#0A0;\n",
       "        background-color:#DFD;\n",
       "        border:solid 1px #0A0;\n",
       "        font-size:32px; \n",
       "        font-family:Times,serif;\n",
       "        padding:10px;\n",
       "    }    \n",
       "    .titre1 {\n",
       "        color:#088;\n",
       "        font-size:48px;\n",
       "        font-family:verdana;\n",
       "        margin:32px;\n",
       "        font-weight:bold;\n",
       "    }\n",
       "    .titre2 {\n",
       "        color:#600;\n",
       "        font-size:28px;\n",
       "        font-family:verdana;\n",
       "        margin:16px;\n",
       "        margin-top:80px;\n",
       "        font-weight:bold;\n",
       "    }\n",
       "    img {\n",
       "        display:inline-block;\n",
       "    }\n",
       "    .details *  {\n",
       "        color:#444;\n",
       "        font-size:12px;\n",
       "    }\n",
       "</style>\n"
      ],
      "text/plain": [
       "<IPython.core.display.HTML object>"
      ]
     },
     "metadata": {},
     "output_type": "display_data"
    }
   ],
   "source": [
    "%%html\n",
    "<style>\n",
    "    #site , .p-DockPanel {background-color:#EC8;}\n",
    "    #notebook-container , .jp-Notebook {\n",
    "        background-color:#CC8;\n",
    "        }\n",
    "    p , p > * {\n",
    "        color:#600;\n",
    "        font-size:16px; \n",
    "        font-family:\"Comic Sans Ms\",cursive;\n",
    "    }\n",
    "\n",
    "    .reponse {\n",
    "        color:#0A0;\n",
    "        background-color:#DFD;\n",
    "        border:solid 1px #0A0;\n",
    "        font-size:32px; \n",
    "        font-family:Times,serif;\n",
    "        padding:10px;\n",
    "    }    \n",
    "    .titre1 {\n",
    "        color:#088;\n",
    "        font-size:48px;\n",
    "        font-family:verdana;\n",
    "        margin:32px;\n",
    "        font-weight:bold;\n",
    "    }\n",
    "    .titre2 {\n",
    "        color:#600;\n",
    "        font-size:28px;\n",
    "        font-family:verdana;\n",
    "        margin:16px;\n",
    "        margin-top:80px;\n",
    "        font-weight:bold;\n",
    "    }\n",
    "    img {\n",
    "        display:inline-block;\n",
    "    }\n",
    "    .details *  {\n",
    "        color:#444;\n",
    "        font-size:12px;\n",
    "    }\n",
    "</style>"
   ]
  },
  {
   "cell_type": "markdown",
   "metadata": {
    "colab_type": "text",
    "id": "F8gcusjaXS4D"
   },
   "source": [
    "Écrire votre nom dans la cellule ci-dessous et \"exécuter\" la cellule :"
   ]
  },
  {
   "cell_type": "markdown",
   "metadata": {},
   "source": [
    "  <div class=reponse > ............................................... </div>"
   ]
  },
  {
   "cell_type": "markdown",
   "metadata": {},
   "source": [
    "\n",
    "<img src=http://phychiinfo.free.fr/i/danger.png width=40 style=display:inline-block />\n",
    "Penser à exporter de temps en temps le fichier .ipynb modifié.\n"
   ]
  },
  {
   "cell_type": "markdown",
   "metadata": {},
   "source": [
    "Le travail à rendre sera ce notebook complété par vos soins."
   ]
  },
  {
   "cell_type": "markdown",
   "metadata": {},
   "source": [
    "<div class=titre2 >1. Importation des bibliothèques</div>"
   ]
  },
  {
   "cell_type": "markdown",
   "metadata": {
    "colab_type": "text",
    "id": "94UHJx00XS4O"
   },
   "source": [
    "Pour ce TP nous avons besoin de la bibliothèque **folium** qui permet de dessiner des cartes, de la bibliothèque **geopy** qui permet de trouver des coordonnées et de la bibliothèque **pyroutelib3** qui permet de tracer des itinéraires.\n",
    "<br/>\n",
    "Si ces bibliothèques ne sont pas déjà installées, il faut exécuter les commandes ci-dessous (à faire une fois pour toute) :"
   ]
  },
  {
   "cell_type": "code",
   "execution_count": null,
   "metadata": {
    "colab": {},
    "colab_type": "code",
    "id": "0fYcM_1oXS4T"
   },
   "outputs": [],
   "source": [
    "pip install folium"
   ]
  },
  {
   "cell_type": "code",
   "execution_count": null,
   "metadata": {},
   "outputs": [],
   "source": [
    "pip install geopy"
   ]
  },
  {
   "cell_type": "code",
   "execution_count": null,
   "metadata": {},
   "outputs": [],
   "source": [
    "pip install pyroutelib3"
   ]
  },
  {
   "cell_type": "markdown",
   "metadata": {},
   "source": [
    "Pour savoir si ces bibliothèques sont installées, essayer d'exécuter le code suivant, si des erreurs apparaissent, alors il faut installer les bibliothèques."
   ]
  },
  {
   "cell_type": "code",
   "execution_count": null,
   "metadata": {},
   "outputs": [],
   "source": [
    "import folium # importation de la bibliothèque folium\n",
    "\n",
    "from geopy.geocoders import ArcGIS # importation d'ArcGIS qui appartient à la bibliothèque geopy\n",
    "geolocator = ArcGIS()\n",
    "from geopy.distance import geodesic # importation de geodesic qui appartient à la bibliothèque geopy\n",
    "\n",
    "from pyroutelib3 import Router # importation de Router qui appartient à la bibliothèque pyroutelib3\n"
   ]
  },
  {
   "cell_type": "markdown",
   "metadata": {},
   "source": [
    "<div class=titre2 >2. Faire afficher une carte du monde</div>\n",
    "\n",
    "Exécuter le code-ci-dessous :"
   ]
  },
  {
   "cell_type": "code",
   "execution_count": null,
   "metadata": {
    "colab": {},
    "colab_type": "code",
    "id": "cy5J-TFMXS4e"
   },
   "outputs": [],
   "source": [
    "# ce code utilise la bibliothèque folium\n",
    "\n",
    "zoom=2 # facteur d'agrandissement de la carte\n",
    "latitude=0  # latitude du lieu\n",
    "longitude=0  # longitude du lieu\n",
    "\n",
    "carte = folium.Map( location=[latitude,longitude] , zoom_start=zoom) # création de la carte centrée au point indiqué\n",
    "\n",
    "folium.Marker( [latitude,longitude] , tooltip=\"le centre de la carte\" ).add_to(carte) # afficher un marqueur à l'endroit indiqué\n",
    "\n",
    "display(carte) # afficher la carte dans ce notebook\n"
   ]
  },
  {
   "cell_type": "markdown",
   "metadata": {},
   "source": [
    "Survoler le marqueur et observer ce qui se passe.\n",
    "<br/>\n",
    "<br/>\n",
    "Remplacer tooltip par popup puis cliquer sur le marqueur pour vérifier que le message apparaît correctement.\n",
    "<br/>\n",
    "<br/>\n",
    "Remplacer Marker par CircleMarker et observer ce qui se passe.\n",
    "<br/>\n",
    "<br/>\n",
    "\n",
    "- Quelles sont les valeurs minimales et maximales pour la latitude ? Même question pour la longitude. \n",
    "\n",
    "- Où est situé le point de coordonnées [90,0] ? et le point de coordonnées [-90,0] ?\n",
    "\n",
    "répondre ci-dessous"
   ]
  },
  {
   "cell_type": "markdown",
   "metadata": {},
   "source": [
    "**Réponses :** \n",
    "<div class=reponse >  ................................. </div>"
   ]
  },
  {
   "cell_type": "markdown",
   "metadata": {
    "colab_type": "text",
    "id": "i4mNWf0-XS4o"
   },
   "source": [
    "<div class=titre2 >2. Un lieu particulier</div>\n",
    "\n",
    "Faire afficher sur une carte le lieu dont les coordonnées sont : (latitude,longitude) 43.707407 , 7.253251, avec un zoom de 17 et un marqueur.\n",
    "<br/>\n",
    "<br/>\n",
    "*Ecrire le code nécessaire dans la cellule ci-dessous puis l'exécuter*"
   ]
  },
  {
   "cell_type": "code",
   "execution_count": null,
   "metadata": {},
   "outputs": [],
   "source": []
  },
  {
   "cell_type": "markdown",
   "metadata": {
    "colab_type": "text",
    "id": "Qtq8l0djXS4y"
   },
   "source": [
    "Avez vous identifié ce lieu ?\n",
    "\n",
    "*Inscrivez votre réponse dans la cellule ci-dessous puis exécuter la cellule :*\n",
    "\n"
   ]
  },
  {
   "cell_type": "markdown",
   "metadata": {},
   "source": [
    "**Réponse :** \n",
    "<div class=reponse >  ................................. </div>"
   ]
  },
  {
   "cell_type": "markdown",
   "metadata": {
    "colab_type": "text",
    "id": "Cq3ELJscXS40"
   },
   "source": [
    "\n",
    "<div class=titre2 >3. Afficher plusieurs marqueurs</div>\n",
    "\n",
    "Récupérer sur [Géoportail](https://www.geoportail.gouv.fr/) les coordonnées des points suivants :\n",
    "- le collège\n",
    "- le gymnase\n",
    "- l'entrée\n",
    "- l'infirmerie\n",
    "\n",
    "Faites afficher sur la même carte les marqueurs correspondants à ces différents lieux.\n",
    "<br/>\n",
    "- Chaque marqueur doit avoir une couleur différente.\n",
    "<br/>\n",
    "- Chaque marqueur doit avoir pour commentaire le nom du lieu.\n",
    "<br/>\n"
   ]
  },
  {
   "cell_type": "markdown",
   "metadata": {},
   "source": [
    "*Aide n°1 : il suffit de répliquer plusieurs fois la ligne qui fait afficher un marqueur.*\n",
    "<br/>\n",
    "<br/>\n",
    "*Aide n°2 : écrire l'adresse approximative dans Géoportail, se déplacer vers le lieu souhaité puis cliquer bouton droit (adresse/coordonnées du lieu) sur un lieu précis pour afficher ses coordonnées*"
   ]
  },
  {
   "cell_type": "markdown",
   "metadata": {},
   "source": [
    "*Aide n°3 :* L'instruction"
   ]
  },
  {
   "cell_type": "code",
   "execution_count": null,
   "metadata": {},
   "outputs": [],
   "source": [
    "folium.Marker([latitude,longitude],tooltip=\"commentaire\",icon=folium.Icon(color='red', icon='flag')).add_to(carte)"
   ]
  },
  {
   "cell_type": "markdown",
   "metadata": {},
   "source": [
    "permet de personnaliser la couleur du marqueur et son icône\n",
    "<div class=details >\n",
    "    \n",
    "- liste complète des valeurs possibles pour la couleur d'un marqueur :\n",
    "'red', 'blue', 'green', 'purple', 'orange', 'darkred', 'lightred', 'beige', 'darkblue', 'darkgreen', 'cadetblue', 'darkpurple', 'white', 'pink', 'lightblue', 'lightgreen', 'gray', 'black', 'lightgray'\n",
    "\n",
    "- quelques valeurs possibles pour l'icône d'un marqueur :\n",
    "'map-marker','comment', 'info-sign', 'star', 'home' , 'plus', 'ok', 'flag', 'heart', 'pushpin', 'user', 'asterisk' ... \n",
    "- liste exhaustive : <a href=https://getbootstrap.com/docs/3.3/components/#glyphicons-glyphs target=_blank  >https://getbootstrap.com/docs/3.3/components/#glyphicons-glyphs</a>\n",
    "</div>"
   ]
  },
  {
   "cell_type": "markdown",
   "metadata": {
    "colab_type": "text",
    "id": "3P-iBwB4XS4-"
   },
   "source": [
    "*Écrire et exécuter votre code ci-dessous :*"
   ]
  },
  {
   "cell_type": "code",
   "execution_count": null,
   "metadata": {
    "colab": {},
    "colab_type": "code",
    "id": "qnAHZFPQXS44"
   },
   "outputs": [],
   "source": []
  },
  {
   "cell_type": "markdown",
   "metadata": {
    "colab": {},
    "colab_type": "code",
    "id": "mq3fcXFyXS4_"
   },
   "source": [
    "<div class=titre2 >4. Trouver les coordonnées d'un lieu à partir de son nom</div>"
   ]
  },
  {
   "cell_type": "markdown",
   "metadata": {},
   "source": [
    "On utilise ici la bibliothèque **geopy** qui permet de rechercher l'adresse et les coordonnées d'un lieu.\n",
    "<br/>\n",
    "Effectuer cette recherche pour \"Lycée du Parc Impérial, Nice\" avec le code ci-dessous :"
   ]
  },
  {
   "cell_type": "code",
   "execution_count": null,
   "metadata": {},
   "outputs": [],
   "source": [
    "# ce code utilise ArcGIS provenant de la bibliothèque geopy\n",
    "\n",
    "location = geolocator.geocode(\"nom du lieu\") #récupération des coordonnées du lieu\n",
    "\n",
    "print(location.address) #on affiche l'adresse du lieu\n",
    "print(location.latitude, location.longitude)  #on affiche les coordonnées du lieu "
   ]
  },
  {
   "cell_type": "markdown",
   "metadata": {
    "colab": {},
    "colab_type": "code",
    "id": "cy5J-TFMXS4e"
   },
   "source": [
    "Afficher la carte et dire dans la cellule ci-dessous à quel endroit précis les coordonnées correspondent :\n"
   ]
  },
  {
   "cell_type": "code",
   "execution_count": null,
   "metadata": {},
   "outputs": [],
   "source": [
    "#écrire ici le code pour afficher la carte"
   ]
  },
  {
   "cell_type": "markdown",
   "metadata": {},
   "source": [
    "**Réponse :** \n",
    "<div class=reponse >  ................................. </div>"
   ]
  },
  {
   "cell_type": "markdown",
   "metadata": {},
   "source": [
    "<div class=titre2 >5. Mesure de distance</div>\n",
    "\n",
    "Le code ci-dessous permet de mesurer la distance géodésique entre deux points (à vol d'oiseau).\n",
    "<br/>\n",
    "Compléter ce code pour afficher la distance entre la salle B105 et l'entrée du gymnase.\n",
    "<br/>\n",
    "Sachant que 1 mile = 1,60934 km, afficher la distance en mètres."
   ]
  },
  {
   "cell_type": "code",
   "execution_count": null,
   "metadata": {},
   "outputs": [],
   "source": [
    "# ce code utilise geodesic provenant de la bibliothèque geopy\n",
    "\n",
    "#affichages des coordonnées\n",
    "point1=(latitude1,longitude1) # il faut bien sûr renseigner ces valeurs !\n",
    "point2=(latitude2,longitude2) # ici aussi !\n",
    "\n",
    "print(geodesic(point1,point2).miles,\" miles\") # affichage de la distance géodésique en miles"
   ]
  },
  {
   "cell_type": "markdown",
   "metadata": {},
   "source": [
    "**Réponse :** \n",
    "<div class=reponse >  ................................. </div>"
   ]
  },
  {
   "cell_type": "markdown",
   "metadata": {},
   "source": [
    "<div class=titre2 >6. Localiser une photographie</div>\n",
    "\n",
    "<img src=http://phychiinfo.free.fr/informatique/EXIF/photos/photo1.jpg />\n",
    "<img src=http://phychiinfo.free.fr/informatique/EXIF/photos/photo2.jpg />\n",
    "<img src=http://phychiinfo.free.fr/informatique/EXIF/photos/photo3.jpg />\n"
   ]
  },
  {
   "cell_type": "markdown",
   "metadata": {},
   "source": [
    "Où, quand et avec quel appareil ont été prises ces trois photographies ?\n",
    "<br/>\n",
    "<br/>\n",
    "Un certain nombre d'informations (auteur, appareil photo, coordonnées etc.) sont contenues dans un fichier image. Ces informations, appelées métadonnées, sont écrites dans un format appelé EXIF.\n",
    "<br/><br/>\n",
    "Ouvrir ce lien <a href=http://phychiinfo.free.fr/informatique/EXIF/ >http://phychiinfo.free.fr/informatique/EXIF/</a> pour lire les données EXIF des photos ci-dessus.\n",
    "<br/><br/>\n",
    "Ecrire et exécuter ci-dessous les codes pour afficher les cartes de ces différents lieux :"
   ]
  },
  {
   "cell_type": "code",
   "execution_count": null,
   "metadata": {},
   "outputs": [],
   "source": []
  },
  {
   "cell_type": "markdown",
   "metadata": {},
   "source": [
    "Pour chacune des trois photographie, donner ci-dessous l'année de la prise de vue, le nom de l'appareil utilisé et le lieu :"
   ]
  },
  {
   "cell_type": "markdown",
   "metadata": {},
   "source": [
    "**Réponse :** \n",
    "<div class=reponse >\n",
    "\n",
    "| photo | année | appareil | lieu |\n",
    "| --- | --- | --- | --- |\n",
    "| 1 | ....................... | ....................... | ....................... |\n",
    "| 2 | ....................... | ....................... | ....................... |\n",
    "| 3 | ....................... | ....................... | ....................... |\n",
    "\n",
    "</div>"
   ]
  },
  {
   "cell_type": "markdown",
   "metadata": {},
   "source": [
    "Afficher ci-dessous une carte du Monde avec un marqueur punaise pour chaque photo. \n",
    "<br/>\n",
    "Ajouter le popup suivant dans les marqueurs pour afficher la photo correspondante lorque l'on clique sur un marqueur :"
   ]
  },
  {
   "cell_type": "code",
   "execution_count": null,
   "metadata": {},
   "outputs": [],
   "source": [
    "popup=\"<img src=http://phychiinfo.free.fr/informatique/EXIF/photos/photo1.jpg />\""
   ]
  },
  {
   "cell_type": "code",
   "execution_count": null,
   "metadata": {},
   "outputs": [],
   "source": [
    "# Ecrire votre code ici ..."
   ]
  },
  {
   "cell_type": "markdown",
   "metadata": {},
   "source": [
    "<div class=titre2 >7. Tracer un trajet</div>\n",
    "\n",
    "Choisir un lieu de départ (par exemple le Lycée) et un lieu d'arrivée (par exemple votre domicile).\n",
    "<br/>\n",
    "Ecrire ci-dessous le code qui permet de définir les coordonnées de ces deux lieux (en utilisant **geopy** par exemple) :"
   ]
  },
  {
   "cell_type": "code",
   "execution_count": null,
   "metadata": {},
   "outputs": [],
   "source": [
    "#votre code :\n",
    "............\n",
    "............\n",
    "............\n",
    "latitude1 = ........\n",
    "longitude1 = ........\n",
    "latitude2 = ........  \n",
    "longitude2 = ........\n"
   ]
  },
  {
   "cell_type": "code",
   "execution_count": null,
   "metadata": {},
   "outputs": [],
   "source": [
    "# ce code utilise Router provenant de la bibliothèque pyroutelib3\n",
    "\n",
    "router = Router(\"car\") # choisir un mode de locomotion parmi \"car\", \"cycle\", \"foot\", \"horse\", \"tram\", \"train\"\n",
    "depart = router.findNode(latitude1, longitude1) # définir les coordonnées du point de départ\n",
    "arrivee = router.findNode(latitude2,  longitude2) # définir les coordonnées du point d'arrivée\n",
    "\n",
    "# l'instruction suivante réalise le calcul du trajet\n",
    "reussite, route = router.doRoute(depart, arrivee) # ATTENTION : cette opération peut durer longtemps !\n",
    "print (reussite) # savoir si le programme a réussi à trouver un trajet, les réponses possibles sont success, no_route ou gave_up"
   ]
  },
  {
   "cell_type": "markdown",
   "metadata": {},
   "source": [
    "En cas de succès, on va créer une liste de coordonnées avec le code suivant :"
   ]
  },
  {
   "cell_type": "code",
   "execution_count": null,
   "metadata": {
    "scrolled": true
   },
   "outputs": [],
   "source": [
    "liste_coordonnees = list(map(router.nodeLatLon, route))\n",
    "print(len(liste_coordonnees)) # afficher le nombre de couples de coordonnées\n",
    "print(liste_coordonnees) # afficher les coordonnées"
   ]
  },
  {
   "cell_type": "markdown",
   "metadata": {},
   "source": [
    "Exécuter le code suivant pour afficher le trajet sur la carte :"
   ]
  },
  {
   "cell_type": "code",
   "execution_count": null,
   "metadata": {},
   "outputs": [],
   "source": [
    "carte = folium.Map(location=[latitude1, longitude1],zoom_start=12) # création de la carte\n",
    "folium.PolyLine(liste_coordonnees).add_to(carte) # construction du tracé (polyline) à partir de la liste des coordonnées\n",
    "display(carte)"
   ]
  },
  {
   "cell_type": "markdown",
   "metadata": {},
   "source": [
    "Nous allons maintenant calculer la longueur du trajet. \n",
    "<br/>\n",
    "Pour cela il faut additionner les longueurs de tous les segments qui relient deux points successifs du parcours, donc faire une **boucle**.\n",
    "<br/>\n",
    "Question préalable : combien y-a-t-il de segments pour votre trajet ?"
   ]
  },
  {
   "cell_type": "markdown",
   "metadata": {},
   "source": [
    "**Réponse :** \n",
    "<div class=reponse >  ................................. </div>"
   ]
  },
  {
   "cell_type": "code",
   "execution_count": null,
   "metadata": {},
   "outputs": [],
   "source": [
    "longueur_trajet=0\n",
    "nombre_de_segments = .............\n",
    "\n",
    "for i in range(0,nombre_de_segments): # écriture de la boucle\n",
    "  longueur_trajet = longueur_trajet + geodesic(liste_coordonnees[i],liste_coordonnees[i+1]).miles # on rajoute la longueur d'un segment au trajet\n"
   ]
  },
  {
   "cell_type": "markdown",
   "metadata": {},
   "source": [
    "La longueur de votre trajet est (en km) :\n",
    "\n",
    "<div class=reponse >  ................................. </div>    "
   ]
  },
  {
   "cell_type": "markdown",
   "metadata": {},
   "source": [
    "Afficher ci-dessous une carte avec votre trajet, des marqueurs pour le point de départ et le point d'arrivée ; le zoom et le centre de la carte étant choisis de telle sorte que tout le trajet apparaît agrandi au maximum et sans débordement.\n",
    "<br/>\n",
    "On peut ajouter une légende au milieu du trajet en adaptant le code suivant :"
   ]
  },
  {
   "cell_type": "code",
   "execution_count": null,
   "metadata": {},
   "outputs": [],
   "source": [
    "folium.Marker(location=[latitude,longitude],icon=folium.DivIcon(html=\"<div style=background-color:orange;width:100px >un commentaire</div>\")).add_to(carte)"
   ]
  },
  {
   "cell_type": "code",
   "execution_count": null,
   "metadata": {},
   "outputs": [],
   "source": [
    "# votre code ...\n",
    "  "
   ]
  }
 ],
 "metadata": {
  "colab": {
   "collapsed_sections": [],
   "name": "Cartographie_TP_1.ipynb",
   "provenance": []
  },
  "kernelspec": {
   "display_name": "Python 3",
   "language": "python",
   "name": "python3"
  },
  "language_info": {
   "codemirror_mode": {
    "name": "ipython",
    "version": 3
   },
   "file_extension": ".py",
   "mimetype": "text/x-python",
   "name": "python",
   "nbconvert_exporter": "python",
   "pygments_lexer": "ipython3",
   "version": "3.7.3"
  }
 },
 "nbformat": 4,
 "nbformat_minor": 1
}
